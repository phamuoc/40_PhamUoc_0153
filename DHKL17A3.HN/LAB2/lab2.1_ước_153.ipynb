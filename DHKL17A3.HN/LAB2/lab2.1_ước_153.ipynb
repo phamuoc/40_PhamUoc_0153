{
 "cells": [
  {
   "cell_type": "markdown",
   "metadata": {},
   "source": [
    "1.Tạo Dữ Liệu Mô Phỏng Nhiệt ĐộTạo Dữ Liệu Mô Phỏng Nhiệt Độ"
   ]
  },
  {
   "cell_type": "code",
   "execution_count": 3,
   "metadata": {},
   "outputs": [
    {
     "name": "stdout",
     "output_type": "stream",
     "text": [
      "nhiệ độ trong thắng: \n",
      " [28.7  29.9  15.11 27.7  17.48 27.84 29.95 14.33 16.93 26.2  25.27 18.27\n",
      " 23.94 22.44 21.62 17.9  27.49 25.05 13.91 19.28 12.53 26.42 13.66 10.05\n",
      " 17.23 23.71 13.35 26.4  17.26 11.29]\n",
      "trung bình nhiệt độ trong tháng là: 20.706999999999997\n"
     ]
    }
   ],
   "source": [
    "import numpy as np\n",
    "nhiet_do = np.round(np.random.uniform(10.0, 30.0, size=30),2)\n",
    "\n",
    "print(\"nhiệ độ trong thắng: \\n\", nhiet_do)\n",
    "print(\"trung bình nhiệt độ trong tháng là:\", np.mean(nhiet_do))"
   ]
  },
  {
   "cell_type": "markdown",
   "metadata": {},
   "source": [
    "2. Phân Tích Xu Hướng Nhiệt Độ"
   ]
  },
  {
   "cell_type": "code",
   "execution_count": 5,
   "metadata": {},
   "outputs": [
    {
     "name": "stdout",
     "output_type": "stream",
     "text": [
      "nhiệt độ ngày cao nhất trong tháng là: 29.95\n",
      "ngày có nhiệt độ cao nhất là ngày thứ: 7\n",
      "nhiệt độ ngày thấp nhất trong tháng là: 10.05\n",
      "ngày có nhiệt độ thấp nhất là ngày thứ: 24\n"
     ]
    }
   ],
   "source": [
    "max_temp = np.max(nhiet_do)\n",
    "day_max_temp = np.argmax(nhiet_do)+1\n",
    "print(\"nhiệt độ ngày cao nhất trong tháng là:\", max_temp)\n",
    "print(f\"ngày có nhiệt độ cao nhất là ngày thứ:\", day_max_temp)\n",
    "min_temp = np.min(nhiet_do)\n",
    "day_min_temp = np.argmin(nhiet_do)+1\n",
    "print(\"nhiệt độ ngày thấp nhất trong tháng là:\", min_temp)\n",
    "print(f\"ngày có nhiệt độ thấp nhất là ngày thứ:\", day_min_temp)"
   ]
  },
  {
   "cell_type": "code",
   "execution_count": 9,
   "metadata": {},
   "outputs": [
    {
     "name": "stdout",
     "output_type": "stream",
     "text": [
      "chenh lệch nhiệt độ cao nhất là: -15.62\n",
      "ngày chênh lệch cao nhất: 7\n"
     ]
    }
   ],
   "source": [
    "ngay_truoc = nhiet_do[:-1]\n",
    "ngay_sau = nhiet_do[1:]\n",
    "chenh_lech = ngay_sau - ngay_truoc\n",
    "dff_max = np.argmax(np.abs(chenh_lech)) +1\n",
    "max_chenh_lech = chenh_lech[dff_max-1]\n",
    "\n",
    "print(\"chenh lệch nhiệt độ cao nhất là:\", max_chenh_lech)\n",
    "print(\"ngày chênh lệch cao nhất:\", dff_max)"
   ]
  },
  {
   "cell_type": "markdown",
   "metadata": {},
   "source": [
    "3. Áp dụng Fancy Indexing"
   ]
  },
  {
   "cell_type": "code",
   "execution_count": 7,
   "metadata": {},
   "outputs": [
    {
     "data": {
      "text/plain": [
       "array([ 1,  2,  4,  6,  7, 10, 11, 13, 14, 15, 17, 18, 22, 26, 28])"
      ]
     },
     "execution_count": 7,
     "metadata": {},
     "output_type": "execute_result"
    }
   ],
   "source": [
    "condition = nhiet_do > 20\n",
    "indices = np.where(condition)\n",
    "day_indices = indices[0]\n",
    "days_above_20_separated = day_indices + 1\n",
    "days_above_20_separated"
   ]
  },
  {
   "cell_type": "code",
   "execution_count": null,
   "metadata": {},
   "outputs": [],
   "source": []
  },
  {
   "cell_type": "markdown",
   "metadata": {},
   "source": []
  }
 ],
 "metadata": {
  "kernelspec": {
   "display_name": "Python 3",
   "language": "python",
   "name": "python3"
  },
  "language_info": {
   "codemirror_mode": {
    "name": "ipython",
    "version": 3
   },
   "file_extension": ".py",
   "mimetype": "text/x-python",
   "name": "python",
   "nbconvert_exporter": "python",
   "pygments_lexer": "ipython3",
   "version": "3.10.10"
  }
 },
 "nbformat": 4,
 "nbformat_minor": 2
}
