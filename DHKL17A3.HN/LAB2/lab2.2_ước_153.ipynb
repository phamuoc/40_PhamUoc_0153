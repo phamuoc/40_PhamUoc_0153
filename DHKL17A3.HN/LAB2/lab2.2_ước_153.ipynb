{
 "cells": [
  {
   "cell_type": "markdown",
   "metadata": {},
   "source": [
    "chuyển đổi list này thành 1 mảng numpy để thực hiện các  phân tích.Phân Tích điểm Số:"
   ]
  },
  {
   "cell_type": "code",
   "execution_count": 2,
   "metadata": {},
   "outputs": [
    {
     "data": {
      "text/plain": [
       "[[3.04, 3.39, 6.7],\n",
       " [5.8, 6.41, 6.62],\n",
       " [2.59, 3.57, 9.16],\n",
       " [3.81, 8.78, 9.24],\n",
       " [8.91, 9.64, 6.39]]"
      ]
     },
     "execution_count": 2,
     "metadata": {},
     "output_type": "execute_result"
    }
   ],
   "source": [
    "import csv\n",
    "\n",
    "file_path = 'E:\\\\DHKL17A3.HN\\\\LAB2\\\\diem_hoc_phan.csv'\n",
    "data = []\n",
    "with open(file_path, newline='', encoding='utf-8') as csvfile:\n",
    "    reader = csv.reader(csvfile)\n",
    "    next(reader)\n",
    "    for row in reader:\n",
    "        data.append([float(score) for score in row[2:]])\n",
    "data[:5]\n"
   ]
  },
  {
   "cell_type": "markdown",
   "metadata": {},
   "source": [
    "2. Qui đổi từ thang điểm 10 sang điểm tín chỉ"
   ]
  },
  {
   "cell_type": "code",
   "execution_count": 4,
   "metadata": {},
   "outputs": [
    {
     "data": {
      "text/plain": [
       "array([[3.04, 3.39, 6.7 ],\n",
       "       [5.8 , 6.41, 6.62],\n",
       "       [2.59, 3.57, 9.16],\n",
       "       [3.81, 8.78, 9.24],\n",
       "       [8.91, 9.64, 6.39]])"
      ]
     },
     "execution_count": 4,
     "metadata": {},
     "output_type": "execute_result"
    }
   ],
   "source": [
    "import numpy as np\n",
    "diem_np_array = np.array(data)\n",
    "diem_np_array[:5]"
   ]
  },
  {
   "cell_type": "code",
   "execution_count": 5,
   "metadata": {},
   "outputs": [
    {
     "data": {
      "text/plain": [
       "array([['F', 'F', 'C+'],\n",
       "       ['C', 'C', 'C+'],\n",
       "       ['F', 'F', 'A'],\n",
       "       ['F', 'A', 'A'],\n",
       "       ['A', 'A', 'C']], dtype='<U2')"
      ]
     },
     "execution_count": 5,
     "metadata": {},
     "output_type": "execute_result"
    }
   ],
   "source": [
    "\n",
    "def chuyen_diem(score):\n",
    "    if 8.5 <= score <= 10:\n",
    "        return 'A'\n",
    "    elif 8.0 <= score <= 8.5:\n",
    "        return 'B+'\n",
    "    elif 7.0 <= score <= 8.0:\n",
    "        return 'B'\n",
    "    elif 6.5 <= score <= 7.0:\n",
    "        return 'C+'\n",
    "    elif 5.5 <= score <= 6.5:\n",
    "        return 'C'\n",
    "    elif 5.0 <= score <= 5.5:\n",
    "        return 'D+'\n",
    "    elif 4.0 <= score <= 5.0:\n",
    "        return 'D'\n",
    "    else:\n",
    "        return 'F'\n",
    "diem_converted = np.vectorize(chuyen_diem)(diem_np_array)\n",
    "diem_converted[:5]\n"
   ]
  },
  {
   "cell_type": "markdown",
   "metadata": {},
   "source": [
    "3. Chia tách Dữ Liệu theo học phần để phân tích"
   ]
  },
  {
   "cell_type": "code",
   "execution_count": 6,
   "metadata": {},
   "outputs": [],
   "source": [
    "hp1_scores = diem_np_array[:, 0]\n",
    "hp2_scores = diem_np_array[:, 1]\n",
    "hp3_scores = diem_np_array[:, 2]\n"
   ]
  },
  {
   "cell_type": "markdown",
   "metadata": {},
   "source": [
    "4. Phân tích dữ liệu theo từng học phần"
   ]
  },
  {
   "cell_type": "code",
   "execution_count": 7,
   "metadata": {},
   "outputs": [],
   "source": [
    "hp1_stats = (np.sum(hp1_scores), np.mean(hp1_scores), np.std(hp1_scores))\n",
    "hp2_stats = (np.sum(hp2_scores), np.mean(hp2_scores), np.std(hp2_scores))\n",
    "hp3_stats = (np.sum(hp3_scores), np.mean(hp3_scores), np.std(hp3_scores))\n"
   ]
  },
  {
   "cell_type": "code",
   "execution_count": 9,
   "metadata": {},
   "outputs": [
    {
     "name": "stdout",
     "output_type": "stream",
     "text": [
      "học phần 1:\n",
      "tổng điểm: 154.93\n",
      "điểm trung bình: 5.16\n",
      "độ lệch chuẩn: 2.41\n",
      "học phần 2:\n",
      "tổng điểm: 170.27\n",
      "điểm trung bình: 5.68\n",
      "độ lệch chuẩn: 2.25\n",
      "học phần 3:\n",
      "tổng điểm: 188.78\n",
      "điểm trung bình: 6.29\n",
      "độ lệch chuẩn: 1.81\n"
     ]
    }
   ],
   "source": [
    "print(\"học phần 1:\")\n",
    "print(f\"tổng điểm: {hp1_stats[0]:.2f}\")\n",
    "print(f\"điểm trung bình: {hp1_stats[1]:.2f}\")\n",
    "print(f\"độ lệch chuẩn: {hp1_stats[2]:.2f}\")\n",
    "\n",
    "print(\"học phần 2:\")\n",
    "print(f\"tổng điểm: {hp2_stats[0]:.2f}\")\n",
    "print(f\"điểm trung bình: {hp2_stats[1]:.2f}\")\n",
    "print(f\"độ lệch chuẩn: {hp2_stats[2]:.2f}\")\n",
    "\n",
    "print(\"học phần 3:\")\n",
    "print(f\"tổng điểm: {hp3_stats[0]:.2f}\")\n",
    "print(f\"điểm trung bình: {hp3_stats[1]:.2f}\")\n",
    "print(f\"độ lệch chuẩn: {hp3_stats[2]:.2f}\")"
   ]
  },
  {
   "cell_type": "markdown",
   "metadata": {},
   "source": []
  }
 ],
 "metadata": {
  "kernelspec": {
   "display_name": "Python 3",
   "language": "python",
   "name": "python3"
  },
  "language_info": {
   "codemirror_mode": {
    "name": "ipython",
    "version": 3
   },
   "file_extension": ".py",
   "mimetype": "text/x-python",
   "name": "python",
   "nbconvert_exporter": "python",
   "pygments_lexer": "ipython3",
   "version": "3.10.10"
  }
 },
 "nbformat": 4,
 "nbformat_minor": 2
}
